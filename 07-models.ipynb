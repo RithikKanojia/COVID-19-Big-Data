{
 "cells": [
  {
   "attachments": {},
   "cell_type": "markdown",
   "metadata": {},
   "source": [
    "## Imports"
   ]
  },
  {
   "cell_type": "code",
   "execution_count": 1,
   "metadata": {},
   "outputs": [],
   "source": [
    "from pyspark.sql import SparkSession\n",
    "from pyspark.ml.evaluation import MulticlassClassificationEvaluator\n",
    "from pyspark.ml.classification import LogisticRegression, DecisionTreeClassifier, RandomForestClassifier, LinearSVC\n",
    "from pyspark.ml.feature import VectorAssembler"
   ]
  },
  {
   "attachments": {},
   "cell_type": "markdown",
   "metadata": {},
   "source": [
    "## Utils"
   ]
  },
  {
   "cell_type": "code",
   "execution_count": 2,
   "metadata": {},
   "outputs": [],
   "source": [
    "def transform_data(data, input_cols, output_col):\n",
    "    assembler = VectorAssembler(inputCols=input_cols, outputCol=\"features\")\n",
    "    data = assembler.transform(data)\n",
    "    data = data.select(['features', output_col])\n",
    "    return data\n",
    "\n",
    "def evaluate_model(model, data, model_name , date_type):\n",
    "\n",
    "    # prdict on data\n",
    "    predictions = model.transform(data)\n",
    "\n",
    "    # Create evaluators for different metrics\n",
    "    evaluator_multi = MulticlassClassificationEvaluator(predictionCol='prediction', labelCol='DIED', metricName='accuracy')\n",
    "    evaluator_weighted_precision = MulticlassClassificationEvaluator(predictionCol='prediction', labelCol='DIED', metricName='weightedPrecision')\n",
    "    evaluator_weighted_recall = MulticlassClassificationEvaluator(predictionCol='prediction', labelCol='DIED', metricName='weightedRecall')\n",
    "    evaluator_f1 = MulticlassClassificationEvaluator(predictionCol='prediction', labelCol='DIED', metricName='f1')\n",
    "\n",
    "    # Calculate evaluation metrics\n",
    "    accuracy = evaluator_multi.evaluate(predictions)\n",
    "    weighted_precision = evaluator_weighted_precision.evaluate(predictions)\n",
    "    weighted_recall = evaluator_weighted_recall.evaluate(predictions)\n",
    "    f1 = evaluator_f1.evaluate(predictions)\n",
    "\n",
    "    # Print results\n",
    "    print('-------------------------------------------------------------------------------------------------------------------')\n",
    "    print(f'---------------------------------------------- Model: {model_name} -----------------------------------------------')\n",
    "    print('-------------------------------------------------------------------------------------------------------------------')\n",
    "    print(f'Data Type: {date_type}')\n",
    "    print(f'Accuracy: {accuracy}')\n",
    "    print(f'Weighted Precision: {weighted_precision}')\n",
    "    print(f'Weighted Recall: {weighted_recall}')\n",
    "    print(f'F1 Score: {f1}')"
   ]
  },
  {
   "attachments": {},
   "cell_type": "markdown",
   "metadata": {},
   "source": [
    "## Logistic Regression"
   ]
  },
  {
   "cell_type": "code",
   "execution_count": 3,
   "metadata": {},
   "outputs": [],
   "source": [
    "def logistic_regression(train_data, test_data, output_col):\n",
    "\n",
    "    # Create Logistic Regression model\n",
    "    lr = LogisticRegression(featuresCol='features', labelCol=output_col)\n",
    "\n",
    "    # Fit model to training data\n",
    "    lr_model = lr.fit(train_data)\n",
    "\n",
    "    evaluate_model(lr_model,train_data, 'Logistic Regression', 'train')\n",
    "    evaluate_model(lr_model,test_data, 'Logistic Regression', 'test')"
   ]
  },
  {
   "attachments": {},
   "cell_type": "markdown",
   "metadata": {},
   "source": [
    "## Decision Tree"
   ]
  },
  {
   "cell_type": "code",
   "execution_count": 4,
   "metadata": {},
   "outputs": [],
   "source": [
    "def decision_tree(train_data, test_data, output_col):\n",
    "\n",
    "    # Create Decision Tree model\n",
    "    dt = DecisionTreeClassifier(featuresCol='features', labelCol=output_col)\n",
    "\n",
    "    # Fit model to training data\n",
    "    dt_model = dt.fit(train_data)\n",
    "\n",
    "    evaluate_model(dt_model, train_data, 'Decision Tree', 'train')\n",
    "    evaluate_model(dt_model, test_data, 'Decision Tree', 'test')"
   ]
  },
  {
   "attachments": {},
   "cell_type": "markdown",
   "metadata": {},
   "source": [
    "## Random Forest"
   ]
  },
  {
   "cell_type": "code",
   "execution_count": 5,
   "metadata": {},
   "outputs": [],
   "source": [
    "def random_forest(train_data, test_data, output_col):\n",
    "\n",
    "    # Create Random Forest model\n",
    "    rf = RandomForestClassifier(featuresCol='features', labelCol=output_col)\n",
    "\n",
    "    # Fit model to training data\n",
    "    rf_model = rf.fit(train_data)\n",
    "\n",
    "    evaluate_model(rf_model, train_data, 'Random Forest', 'train')\n",
    "    evaluate_model(rf_model, test_data, 'Random Forest', 'test')"
   ]
  },
  {
   "cell_type": "code",
   "execution_count": 6,
   "metadata": {},
   "outputs": [],
   "source": [
    "def map_reduce(train_data, test_data, output_col):\n",
    "\n",
    "    # Create Random Forest model\n",
    "    rf = LinearSVC(featuresCol='features', labelCol=output_col)\n",
    "\n",
    "    # Fit model to training data\n",
    "    rf_model = rf.fit(train_data)\n",
    "\n",
    "    evaluate_model(rf_model, train_data, 'Linear SVC', 'train')\n",
    "    evaluate_model(rf_model, test_data, 'Linear SVC', 'test')"
   ]
  },
  {
   "attachments": {},
   "cell_type": "markdown",
   "metadata": {},
   "source": [
    "## Pipeline"
   ]
  },
  {
   "cell_type": "code",
   "execution_count": 7,
   "metadata": {},
   "outputs": [],
   "source": [
    "def pipeline(train_data, test_data, output_col):   \n",
    "    logistic_regression(train_data, test_data, output_col)\n",
    "    decision_tree(train_data, test_data, output_col)\n",
    "    random_forest(train_data, test_data, output_col)\n",
    "    map_reduce(train_data, test_data, output_col)"
   ]
  },
  {
   "cell_type": "code",
   "execution_count": 8,
   "metadata": {},
   "outputs": [
    {
     "name": "stderr",
     "output_type": "stream",
     "text": [
      "25/05/08 15:25:11 WARN Utils: Your hostname, Ajits-MacBook-Air.local resolves to a loopback address: 127.0.0.1; using 216.37.99.170 instead (on interface en0)\n",
      "25/05/08 15:25:11 WARN Utils: Set SPARK_LOCAL_IP if you need to bind to another address\n",
      "Setting default log level to \"WARN\".\n",
      "To adjust logging level use sc.setLogLevel(newLevel). For SparkR, use setLogLevel(newLevel).\n",
      "25/05/08 15:25:11 WARN NativeCodeLoader: Unable to load native-hadoop library for your platform... using builtin-java classes where applicable\n",
      "25/05/08 15:25:15 WARN InstanceBuilder: Failed to load implementation from:dev.ludovic.netlib.blas.JNIBLAS\n",
      "25/05/08 15:25:15 WARN InstanceBuilder: Failed to load implementation from:dev.ludovic.netlib.blas.VectorBLAS\n"
     ]
    },
    {
     "name": "stdout",
     "output_type": "stream",
     "text": [
      "-------------------------------------------------------------------------------------------------------------------\n",
      "---------------------------------------------- Model: Logistic Regression -----------------------------------------------\n",
      "-------------------------------------------------------------------------------------------------------------------\n",
      "Data Type: train\n",
      "Accuracy: 0.9402707692307692\n",
      "Weighted Precision: 0.9326813019982092\n",
      "Weighted Recall: 0.9402707692307692\n",
      "F1 Score: 0.9352444623904975\n",
      "-------------------------------------------------------------------------------------------------------------------\n",
      "---------------------------------------------- Model: Logistic Regression -----------------------------------------------\n",
      "-------------------------------------------------------------------------------------------------------------------\n",
      "Data Type: test\n",
      "Accuracy: 0.9387171522950254\n",
      "Weighted Precision: 0.9313049247226775\n",
      "Weighted Recall: 0.9387171522950254\n",
      "F1 Score: 0.9337591575683193\n",
      "-------------------------------------------------------------------------------------------------------------------\n",
      "---------------------------------------------- Model: Decision Tree -----------------------------------------------\n",
      "-------------------------------------------------------------------------------------------------------------------\n",
      "Data Type: train\n",
      "Accuracy: 0.938756923076923\n",
      "Weighted Precision: 0.925955108574378\n",
      "Weighted Recall: 0.938756923076923\n",
      "F1 Score: 0.9260062775421871\n",
      "-------------------------------------------------------------------------------------------------------------------\n",
      "---------------------------------------------- Model: Decision Tree -----------------------------------------------\n",
      "-------------------------------------------------------------------------------------------------------------------\n",
      "Data Type: test\n",
      "Accuracy: 0.9370408716659271\n",
      "Weighted Precision: 0.9248915357215584\n",
      "Weighted Recall: 0.9370408716659271\n",
      "F1 Score: 0.9242469731904452\n",
      "-------------------------------------------------------------------------------------------------------------------\n",
      "---------------------------------------------- Model: Random Forest -----------------------------------------------\n",
      "-------------------------------------------------------------------------------------------------------------------\n",
      "Data Type: train\n",
      "Accuracy: 0.9380307692307692\n",
      "Weighted Precision: 0.9248627107296344\n",
      "Weighted Recall: 0.9380307692307692\n",
      "F1 Score: 0.9216202787008686\n",
      "-------------------------------------------------------------------------------------------------------------------\n",
      "---------------------------------------------- Model: Random Forest -----------------------------------------------\n",
      "-------------------------------------------------------------------------------------------------------------------\n",
      "Data Type: test\n",
      "Accuracy: 0.936991569294483\n",
      "Weighted Precision: 0.9255848634528635\n",
      "Weighted Recall: 0.9369915692944831\n",
      "F1 Score: 0.9211387268879895\n",
      "-------------------------------------------------------------------------------------------------------------------\n",
      "---------------------------------------------- Model: Linear SVC -----------------------------------------------\n",
      "-------------------------------------------------------------------------------------------------------------------\n",
      "Data Type: train\n",
      "Accuracy: 0.9311138461538462\n",
      "Weighted Precision: 0.8669729944994083\n",
      "Weighted Recall: 0.9311138461538462\n",
      "F1 Score: 0.8978994130523562\n",
      "-------------------------------------------------------------------------------------------------------------------\n",
      "---------------------------------------------- Model: Linear SVC -----------------------------------------------\n",
      "-------------------------------------------------------------------------------------------------------------------\n",
      "Data Type: test\n",
      "Accuracy: 0.9273776068628901\n",
      "Weighted Precision: 0.8600292257107411\n",
      "Weighted Recall: 0.9273776068628901\n",
      "F1 Score: 0.8924345936659228\n"
     ]
    }
   ],
   "source": [
    "spark = SparkSession.builder.appName('ml_models').getOrCreate()\n",
    "\n",
    "train_data_path = 'dataset/04-preprocessed/train.csv'\n",
    "test_data_path = 'dataset/04-preprocessed/test.csv'\n",
    "\n",
    "train_data = spark.read.csv(train_data_path, header=True, inferSchema=True)\n",
    "test_data = spark.read.csv(test_data_path, header=True, inferSchema=True)\n",
    "# USMER,MEDICAL_UNIT,SEX,PATIENT_TYPE,DIED,INTUBED,PNEUMONIA,AGE,PREGNANT,DIABETES,COPD,ASTHMA,INMSUPR,HIPERTENSION,OTHER_DISEASE,CARDIOVASCULAR,OBESITY,RENAL_CHRONIC,TOBACCO,CLASIFFICATION_FINAL,ICU\n",
    "input_cols = [\"USMER\",\"MEDICAL_UNIT\",\"SEX\",\"PATIENT_TYPE\",\"PNEUMONIA\",\"AGE\",\"DIABETES\",\"COPD\",\"ASTHMA\",\"INMSUPR\",\"HIPERTENSION\",\"OTHER_DISEASE\",\"CARDIOVASCULAR\",\"OBESITY\",\"RENAL_CHRONIC\",\"TOBACCO\",\"CLASIFFICATION_FINAL\"]\n",
    "# input_cols = ['SEX', 'PATIENT_TYPE', 'AGE', 'ASTHMA','HIPERTENSION', 'OTHER_DISEASE','OBESITY', 'TOBACCO', \"CLASIFFICATION_FINAL\"]\n",
    "output_col = 'DIED'\n",
    "\n",
    "\n",
    "transformed_train_data = transform_data(train_data, input_cols, output_col)\n",
    "transformed_test_data = transform_data(test_data, input_cols, output_col)\n",
    "\n",
    "pipeline(transformed_train_data, transformed_test_data, output_col) \n",
    "\n",
    "spark.stop()"
   ]
  }
 ],
 "metadata": {
  "kernelspec": {
   "display_name": ".venv",
   "language": "python",
   "name": "python3"
  },
  "language_info": {
   "codemirror_mode": {
    "name": "ipython",
    "version": 3
   },
   "file_extension": ".py",
   "mimetype": "text/x-python",
   "name": "python",
   "nbconvert_exporter": "python",
   "pygments_lexer": "ipython3",
   "version": "3.13.1"
  },
  "orig_nbformat": 4
 },
 "nbformat": 4,
 "nbformat_minor": 2
}
